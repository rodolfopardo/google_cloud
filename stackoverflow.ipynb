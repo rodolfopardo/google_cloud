{
 "cells": [
  {
   "cell_type": "code",
   "execution_count": 88,
   "metadata": {},
   "outputs": [
    {
     "name": "stderr",
     "output_type": "stream",
     "text": [
      "[nltk_data] Downloading package punkt to\n",
      "[nltk_data]     /Users/rodolfopardo/nltk_data...\n",
      "[nltk_data]   Package punkt is already up-to-date!\n",
      "[nltk_data] Downloading package stopwords to\n",
      "[nltk_data]     /Users/rodolfopardo/nltk_data...\n",
      "[nltk_data]   Package stopwords is already up-to-date!\n"
     ]
    }
   ],
   "source": [
    "#Se importan las librerias \n",
    "\n",
    "import pandas as pd\n",
    "from bs4 import BeautifulSoup\n",
    "import numpy as np\n",
    "import matplotlib.pyplot as plt\n",
    "import seaborn as sns\n",
    "import time \n",
    "import requests\n",
    "import stylecloud\n",
    "import stop_words\n",
    "import urllib.request\n",
    "from IPython.display import Image\n",
    "import nltk\n",
    "from nltk.tokenize import sent_tokenize\n",
    "from nltk.probability import FreqDist\n",
    "from nltk.tokenize import word_tokenize\n",
    "import pandas.util.testing as tm\n",
    "nltk.download('punkt')\n",
    "import string\n",
    "import re\n",
    "nltk.download('stopwords')\n",
    "sns.set(rc={'figure.figsize':(11.7,8.27)})"
   ]
  },
  {
   "cell_type": "code",
   "execution_count": 4,
   "metadata": {},
   "outputs": [
    {
     "name": "stdout",
     "output_type": "stream",
     "text": [
      "Ingrese la nota a analizar a continuaciónhttps://stackoverflow.com/questions/tagged/google-cloud-platform\n"
     ]
    }
   ],
   "source": [
    "#Ingresando url nota\n",
    "\n",
    "url = input(\"Ingrese la nota a analizar a continuación\")"
   ]
  },
  {
   "cell_type": "code",
   "execution_count": 22,
   "metadata": {},
   "outputs": [
    {
     "name": "stdout",
     "output_type": "stream",
     "text": [
      "Ingrese la nota a analizar a continuaciónhttps://stackoverflow.com/questions/tagged/google-cloud-platform?tab=newest&page=1&pagesize=50\n"
     ]
    }
   ],
   "source": [
    "url1 = input(\"Ingrese la nota a analizar a continuación\")"
   ]
  },
  {
   "cell_type": "code",
   "execution_count": 6,
   "metadata": {},
   "outputs": [
    {
     "name": "stdout",
     "output_type": "stream",
     "text": [
      "Ingrese la nota a analizar a continuaciónhttps://stackoverflow.com/questions/tagged/google-cloud-platform?tab=newest&page=3&pagesize=50\n"
     ]
    }
   ],
   "source": [
    "url2 = input(\"Ingrese la nota a analizar a continuación\")"
   ]
  },
  {
   "cell_type": "code",
   "execution_count": 29,
   "metadata": {},
   "outputs": [],
   "source": [
    "nota = requests.get(url2).content"
   ]
  },
  {
   "cell_type": "code",
   "execution_count": 30,
   "metadata": {},
   "outputs": [],
   "source": [
    "with urllib.request.urlopen(url2) as response: \n",
    "    html = response.read()\n",
    "    html = html.decode('utf-8')"
   ]
  },
  {
   "cell_type": "code",
   "execution_count": 31,
   "metadata": {},
   "outputs": [],
   "source": [
    "soup = BeautifulSoup(html)"
   ]
  },
  {
   "cell_type": "code",
   "execution_count": 32,
   "metadata": {},
   "outputs": [],
   "source": [
    "selector = soup.select(\"h3\")\n",
    "#titulo = []\n",
    "count = 0\n",
    "for element in selector:\n",
    "    titulo.append(element.text)\n",
    "    count +=1"
   ]
  },
  {
   "cell_type": "code",
   "execution_count": 33,
   "metadata": {},
   "outputs": [],
   "source": [
    "selector = soup.findAll(\"div\", {\"class\": \"excerpt\"})\n",
    "#subtitulo = []\n",
    "count = 0\n",
    "for element in selector:\n",
    "    subtitulo.append(element.text)\n",
    "    count +=1"
   ]
  },
  {
   "cell_type": "code",
   "execution_count": 20,
   "metadata": {},
   "outputs": [],
   "source": [
    "titulo = titulo[3:53]"
   ]
  },
  {
   "cell_type": "code",
   "execution_count": 66,
   "metadata": {},
   "outputs": [],
   "source": [
    "df = pd.DataFrame(titulo,columns=['Questions'])"
   ]
  },
  {
   "cell_type": "code",
   "execution_count": 68,
   "metadata": {},
   "outputs": [],
   "source": [
    "df.to_csv('Questions_StackOverFlow.csv')"
   ]
  },
  {
   "cell_type": "code",
   "execution_count": 34,
   "metadata": {},
   "outputs": [
    {
     "data": {
      "text/plain": [
       "156"
      ]
     },
     "execution_count": 34,
     "metadata": {},
     "output_type": "execute_result"
    }
   ],
   "source": [
    "len(titulo)"
   ]
  },
  {
   "cell_type": "code",
   "execution_count": 89,
   "metadata": {},
   "outputs": [
    {
     "data": {
      "text/plain": [
       "['Building a docker image on Google VM fails - on conda set up stage',\n",
       " 'Enable Audit Logs using Cloud Deployment Manager GCP',\n",
       " 'How to communicate between Standard AppEngine to another Standard AppEngine within shared VPC?',\n",
       " 'google-cloud-datacatalog 0.8.0 is missing TagTemplate option',\n",
       " 'my bashrc contains strange characters (if Ä -f ü/.bash_aliases Å; then . ü/.bash_aliases fi)',\n",
       " 'Unkown failure to associate VPC connector in service project with shared VPC subnet in main project',\n",
       " 'Kubernetes cluster appears to have been deleted after upgrading from trial version',\n",
       " \"“Logging system failed to initialize using configuration from 'null'” when running a Docker container on a local computer\",\n",
       " 'Permisson error creating project with GCP token, terraform and vault',\n",
       " 'Cannot load the dag in composer',\n",
       " 'Can we add custom action button on Google data studio reports',\n",
       " 'Is there an inserted date column in Google Firebase raw events data in Google BigQuery?',\n",
       " 'Connect to MySQL database install on ComputeEngine (Click-to-Deploy)',\n",
       " 'BigQuery public dataset geolite2.ipv4_city_blocks seems to be missing',\n",
       " 'terraform loop through ids list and generate data blocks from it (and access it again)',\n",
       " 'How do you restore the intrinsic permissions associated with a bucket in GCS?',\n",
       " 'Cloud sql Multi region read replica architecture [closed]',\n",
       " 'Keyword search an industry - Places API [closed]',\n",
       " '“Could not load default credentials” google cloud secrets manager - use CLI authorized user',\n",
       " 'Google Cloud Storage Upload SHA1',\n",
       " 'How to use the API using only the API key',\n",
       " 'Migrate CyberPanel with everything to a new CyberPanel on different VPS',\n",
       " 'fatal: repository `https://github.com/{owner}/{name}.git/` not found [duplicate]',\n",
       " 'Replacement for Go App Engine “google.golang.org/appengine/log” package, with log levels?',\n",
       " 'Google Compute Engine fails to reboot with error Unrecognized mount option “NOFAIL_OPTION” or missing value',\n",
       " 'Applications works locally, but not in production mode on Google Cloud Platform',\n",
       " 'Gridgain Partitions loss with node scale down',\n",
       " 'Mounting persistent volume claims for kubernetes pod',\n",
       " 'Get array of questions and associated choices to the questions in pdf',\n",
       " 'Terraform Multilevel Maps with list throwing error',\n",
       " 'What does `gcloud compute instances create` do? - POST https://compute.googleapis.com…',\n",
       " 'Making prediction in SavedModel from BigQuery ML',\n",
       " 'Does Firebase Storage support Load Balancing(/GoogleCDN/CloudArmor)? Because of the security rules',\n",
       " 'Permissions GCS buckets',\n",
       " 'Godaddy email server and website hosted on GCP (c# application), Emails not working - getting timeout issue',\n",
       " 'What are the options of routing HTTP connections to one specific instance out of many instances behind a load balancer?',\n",
       " 'Google Secrets Manager Denied Access When Roles/Poject/ServiceAccount Correct?',\n",
       " 'How to set up a GCP API gateway for my react frontend',\n",
       " 'How to create alerts on big query schedule jobs and send email on failure?',\n",
       " 'Cloud Vision PDF to JSON - specific content',\n",
       " 'add small bash script to cloudbuild.yaml',\n",
       " 'What is the default behavior of the Global Window for unbounded pcollections in Apache Beam?',\n",
       " 'Python getting error: “Remote end closed connection without” http.client.RemoteDisconnected: Remote end closed connection without response',\n",
       " \"Can't register the app with the Google cloud platform\",\n",
       " 'Google Cloud Load Balancer: Error when creating serverless network endpoint group',\n",
       " 'JetBrains Upsource throwing unknown host error while connecting GCP cloud source repositories URL | SSH connection',\n",
       " 'Postgresql database error: column does not exist',\n",
       " 'Connect App Engine & Flask & SQLAlchemy to Cloud Sql',\n",
       " 'How to resolve GCloud permissions?',\n",
       " 'GCP Deployment Manager third party resources',\n",
       " '\\ncurrent community\\n',\n",
       " '\\r\\nyour communities            ',\n",
       " 'more stack exchange communities\\n',\n",
       " 'Building a docker image on Google VM fails - on conda set up stage',\n",
       " 'Enable Audit Logs using Cloud Deployment Manager GCP',\n",
       " 'How to communicate between Standard AppEngine to another Standard AppEngine within shared VPC?',\n",
       " 'google-cloud-datacatalog 0.8.0 is missing TagTemplate option',\n",
       " 'my bashrc contains strange characters (if Ä -f ü/.bash_aliases Å; then . ü/.bash_aliases fi)',\n",
       " 'Unkown failure to associate VPC connector in service project with shared VPC subnet in main project',\n",
       " 'Kubernetes cluster appears to have been deleted after upgrading from trial version',\n",
       " \"“Logging system failed to initialize using configuration from 'null'” when running a Docker container on a local computer\",\n",
       " 'Permisson error creating project with GCP token, terraform and vault',\n",
       " 'Cannot load the dag in composer',\n",
       " 'Can we add custom action button on Google data studio reports',\n",
       " 'Is there an inserted date column in Google Firebase raw events data in Google BigQuery?',\n",
       " 'Connect to MySQL database install on ComputeEngine (Click-to-Deploy)',\n",
       " 'BigQuery public dataset geolite2.ipv4_city_blocks seems to be missing',\n",
       " 'terraform loop through ids list and generate data blocks from it (and access it again)',\n",
       " 'How do you restore the intrinsic permissions associated with a bucket in GCS?',\n",
       " 'Cloud sql Multi region read replica architecture [closed]',\n",
       " 'Keyword search an industry - Places API [closed]',\n",
       " '“Could not load default credentials” google cloud secrets manager - use CLI authorized user',\n",
       " 'Google Cloud Storage Upload SHA1',\n",
       " 'How to use the API using only the API key',\n",
       " 'Migrate CyberPanel with everything to a new CyberPanel on different VPS',\n",
       " 'fatal: repository `https://github.com/{owner}/{name}.git/` not found [duplicate]',\n",
       " 'Replacement for Go App Engine “google.golang.org/appengine/log” package, with log levels?',\n",
       " 'Google Compute Engine fails to reboot with error Unrecognized mount option “NOFAIL_OPTION” or missing value',\n",
       " 'Applications works locally, but not in production mode on Google Cloud Platform',\n",
       " 'Gridgain Partitions loss with node scale down',\n",
       " 'Mounting persistent volume claims for kubernetes pod',\n",
       " 'Get array of questions and associated choices to the questions in pdf',\n",
       " 'Terraform Multilevel Maps with list throwing error',\n",
       " 'What does `gcloud compute instances create` do? - POST https://compute.googleapis.com…',\n",
       " 'Making prediction in SavedModel from BigQuery ML',\n",
       " 'Does Firebase Storage support Load Balancing(/GoogleCDN/CloudArmor)? Because of the security rules',\n",
       " 'Permissions GCS buckets',\n",
       " 'Godaddy email server and website hosted on GCP (c# application), Emails not working - getting timeout issue',\n",
       " 'What are the options of routing HTTP connections to one specific instance out of many instances behind a load balancer?',\n",
       " 'Google Secrets Manager Denied Access When Roles/Poject/ServiceAccount Correct?',\n",
       " 'How to set up a GCP API gateway for my react frontend',\n",
       " 'How to create alerts on big query schedule jobs and send email on failure?',\n",
       " 'Cloud Vision PDF to JSON - specific content',\n",
       " 'add small bash script to cloudbuild.yaml',\n",
       " 'What is the default behavior of the Global Window for unbounded pcollections in Apache Beam?',\n",
       " 'Python getting error: “Remote end closed connection without” http.client.RemoteDisconnected: Remote end closed connection without response',\n",
       " \"Can't register the app with the Google cloud platform\",\n",
       " 'Google Cloud Load Balancer: Error when creating serverless network endpoint group',\n",
       " 'JetBrains Upsource throwing unknown host error while connecting GCP cloud source repositories URL | SSH connection',\n",
       " 'Postgresql database error: column does not exist',\n",
       " 'Connect App Engine & Flask & SQLAlchemy to Cloud Sql',\n",
       " 'How to resolve GCloud permissions?',\n",
       " 'GCP Deployment Manager third party resources',\n",
       " '\\ncurrent community\\n',\n",
       " '\\r\\nyour communities            ',\n",
       " 'more stack exchange communities\\n',\n",
       " 'Concatenate mulitple arrays into a string in Google BigQuery',\n",
       " 'No module named pytest error in Google Cloud Build?',\n",
       " \"Code: EXTERNAL_RESOURCE_NOT_FOUND; Message: The resource '<projectID>-compute@developer.gserviceaccount.com' of type 'serviceAccount' was not found\",\n",
       " 'How to connect to Cloud SQL from Cloud Run instance while also using Serverless-VPC-Connector?',\n",
       " 'Allow POST to google cloud functions but not GET?',\n",
       " 'CloudFunctions with Pubsub : long delay to publish',\n",
       " 'Google Cloud Platform Windows Server 2012 activation',\n",
       " 'Unable to sign-in using Google in Android App',\n",
       " 'Cloud Profiler - Listing Profiles created from Java agent',\n",
       " 'GCP - Load balancing based on service availability',\n",
       " 'Cloud Run - Allowing users to deploy a single resource, based on permissions',\n",
       " 'How can I synchronize an Azure SQL server with a Google Cloud SQL instance?',\n",
       " 'How to update NS of a DNS in GCP',\n",
       " 'How to give external link in Google Data Studio?',\n",
       " 'Partitioning Google Cloud Ubuntu 20.04 Instance',\n",
       " 'GCP service Account Authentication',\n",
       " 'How to fetch newly added images from VM in google cloud platform?',\n",
       " 'GCP |Dataproc|How to create a persistent HDFS volumn means even if you delete the dataproc cluster it should not delete the HDFS? Is it possible?',\n",
       " 'Is there any GCP managed service is available to store python whl files and use them in requirements.txt',\n",
       " 'How to grant a SELECT permission for a new GCP Cloud SQL PostgreSQL user?',\n",
       " 'Ai Platform Unified Batch Predict with Numpy Array as input not working',\n",
       " 'Simple GCP cloud function gives Error ID: 945b0f01',\n",
       " 'How to add Custom Resource Definition for ManagedCertificate in GCP Kubernetes cluster?',\n",
       " 'Unable to RDP-An internal error has occurred',\n",
       " 'Apache Beam creating PCollection of Custom Entities/Models with Abstract Fields',\n",
       " 'Deploy ML Model GCP / Django at scale, how to manage session?',\n",
       " 'Getting a “Not authorized” error in an third party application we are using for my Wordpress Site',\n",
       " 'Accessing version number for deployed Cloud Function in Python',\n",
       " \"GCP - Cloud Function can't find Python package from Artifact Registry in the same project\",\n",
       " 'What should be the best logic to load CSV data from cloud storage to Big Query using Cloud Functions in Python',\n",
       " 'Functions-framework (emulator) subscribing to Pub/Sub emulator',\n",
       " 'Pre-defining service-account for google-sink with pubsub destination',\n",
       " 'Google Cloud authentication error. Username does not match with json',\n",
       " 'ansible: gcp_compute_disk - problem creating disk from a snapshot',\n",
       " 'How to grant user privileges in google cloud using mysql?',\n",
       " 'Google Cloud Run error: Invalid Command \\\\“/bin/sh\\\\”: file not found when deploying from Docker image',\n",
       " 'Google Ads Apps Script - get all conversion value',\n",
       " 'Google Cloud Composer: question regarding languages and workflows',\n",
       " 'BigQuery API Java client library does not support “JobConfigurationLoad.decimalTargetTypes”?',\n",
       " 'Kubeflow Metadata Store in GCP',\n",
       " 'Trying to connect Google Vision AI to Django',\n",
       " 'Tracert not complete trace to Google Compute Engine Web Server',\n",
       " 'In GKE, how to minimize connect time with Load balancer',\n",
       " 'Publish Pub/Sub messages from APP script: PERMISSION_DENIED',\n",
       " 'Cannot connect to Cloud SQL Proxy via Docker - Error: connect ENOENT',\n",
       " 'Google Cloud connecting first time through ftp but in few seconds reverting to permission denied on write (the file is going blank on this case)',\n",
       " 'Change Google Sheet API from V3 to V4',\n",
       " 'downloading the files from Google Drive using the command line [closed]',\n",
       " 'gcloud: command not found when starting Cloud SQL Auth proxy with docker and container optimised OS',\n",
       " 'Read JSON file directly from google storage (using Cloud Functions)']"
      ]
     },
     "execution_count": 89,
     "metadata": {},
     "output_type": "execute_result"
    }
   ],
   "source": [
    "titulo"
   ]
  },
  {
   "cell_type": "code",
   "execution_count": 35,
   "metadata": {},
   "outputs": [
    {
     "data": {
      "text/plain": [
       "150"
      ]
     },
     "execution_count": 35,
     "metadata": {},
     "output_type": "execute_result"
    }
   ],
   "source": [
    "len(subtitulo)"
   ]
  },
  {
   "cell_type": "code",
   "execution_count": 86,
   "metadata": {},
   "outputs": [],
   "source": [
    "with open('titulo.txt', 'w') as f:\n",
    "    for item in subtitulo:\n",
    "        f.write(\"%s\\n\" % item)\n",
    "\n"
   ]
  },
  {
   "cell_type": "code",
   "execution_count": 99,
   "metadata": {},
   "outputs": [],
   "source": [
    "string = str(titulo)\n",
    "stop = stop_words.get_stop_words(\"en\")\n",
    "stylecloud.gen_stylecloud(string,\n",
    "                          icon_name='fas fa-cloud',\n",
    "                          custom_stopwords=stop, \n",
    "                         output_name='titulo.png')"
   ]
  },
  {
   "cell_type": "code",
   "execution_count": 91,
   "metadata": {},
   "outputs": [],
   "source": [
    "stop.append('google')"
   ]
  },
  {
   "cell_type": "code",
   "execution_count": 92,
   "metadata": {},
   "outputs": [],
   "source": [
    "stop.append('cloud')"
   ]
  },
  {
   "cell_type": "code",
   "execution_count": 93,
   "metadata": {},
   "outputs": [],
   "source": [
    "stop.append('Google')"
   ]
  },
  {
   "cell_type": "code",
   "execution_count": 94,
   "metadata": {},
   "outputs": [],
   "source": [
    "stop.append('Cloud')"
   ]
  },
  {
   "cell_type": "code",
   "execution_count": 95,
   "metadata": {},
   "outputs": [],
   "source": [
    "stop.append('GCP')"
   ]
  },
  {
   "cell_type": "code",
   "execution_count": 96,
   "metadata": {},
   "outputs": [],
   "source": [
    "stop.append('gcp')"
   ]
  },
  {
   "cell_type": "code",
   "execution_count": 97,
   "metadata": {},
   "outputs": [],
   "source": [
    "stop.append('Error')\n",
    "stop.append('error')"
   ]
  },
  {
   "cell_type": "code",
   "execution_count": 98,
   "metadata": {},
   "outputs": [],
   "source": [
    "stop.append('HTTP')\n",
    "stop.append('Using')"
   ]
  },
  {
   "cell_type": "code",
   "execution_count": null,
   "metadata": {},
   "outputs": [],
   "source": []
  }
 ],
 "metadata": {
  "kernelspec": {
   "display_name": "Python 3",
   "language": "python",
   "name": "python3"
  },
  "language_info": {
   "codemirror_mode": {
    "name": "ipython",
    "version": 3
   },
   "file_extension": ".py",
   "mimetype": "text/x-python",
   "name": "python",
   "nbconvert_exporter": "python",
   "pygments_lexer": "ipython3",
   "version": "3.6.9"
  }
 },
 "nbformat": 4,
 "nbformat_minor": 4
}
