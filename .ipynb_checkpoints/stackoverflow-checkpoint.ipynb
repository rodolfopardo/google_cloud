{
 "cells": [
  {
   "cell_type": "code",
   "execution_count": 3,
   "metadata": {},
   "outputs": [
    {
     "name": "stderr",
     "output_type": "stream",
     "text": [
      "/anaconda3/lib/python3.6/site-packages/statsmodels/tools/_testing.py:19: FutureWarning: pandas.util.testing is deprecated. Use the functions in the public API at pandas.testing instead.\n",
      "  import pandas.util.testing as tm\n",
      "[nltk_data] Downloading package punkt to\n",
      "[nltk_data]     /Users/rodolfopardo/nltk_data...\n",
      "[nltk_data]   Package punkt is already up-to-date!\n",
      "[nltk_data] Downloading package stopwords to\n",
      "[nltk_data]     /Users/rodolfopardo/nltk_data...\n",
      "[nltk_data]   Package stopwords is already up-to-date!\n"
     ]
    }
   ],
   "source": [
    "#Se importan las librerias \n",
    "\n",
    "import pandas as pd\n",
    "from bs4 import BeautifulSoup\n",
    "import numpy as np\n",
    "import matplotlib.pyplot as plt\n",
    "import seaborn as sns\n",
    "import time \n",
    "import requests\n",
    "import stylecloud\n",
    "import stop_words\n",
    "import urllib.request\n",
    "from IPython.display import Image\n",
    "import nltk\n",
    "from nltk.tokenize import sent_tokenize\n",
    "from nltk.probability import FreqDist\n",
    "from nltk.tokenize import word_tokenize\n",
    "import pandas.util.testing as tm\n",
    "nltk.download('punkt')\n",
    "import string\n",
    "import re\n",
    "nltk.download('stopwords')\n",
    "sns.set(rc={'figure.figsize':(11.7,8.27)})"
   ]
  },
  {
   "cell_type": "code",
   "execution_count": 4,
   "metadata": {},
   "outputs": [
    {
     "name": "stdout",
     "output_type": "stream",
     "text": [
      "Ingrese la nota a analizar a continuaciónhttps://stackoverflow.com/questions/tagged/google-cloud-platform\n"
     ]
    }
   ],
   "source": [
    "#Ingresando url nota\n",
    "\n",
    "url = input(\"Ingrese la nota a analizar a continuación\")"
   ]
  },
  {
   "cell_type": "code",
   "execution_count": 22,
   "metadata": {},
   "outputs": [
    {
     "name": "stdout",
     "output_type": "stream",
     "text": [
      "Ingrese la nota a analizar a continuaciónhttps://stackoverflow.com/questions/tagged/google-cloud-platform?tab=newest&page=1&pagesize=50\n"
     ]
    }
   ],
   "source": [
    "url1 = input(\"Ingrese la nota a analizar a continuación\")"
   ]
  },
  {
   "cell_type": "code",
   "execution_count": 6,
   "metadata": {},
   "outputs": [
    {
     "name": "stdout",
     "output_type": "stream",
     "text": [
      "Ingrese la nota a analizar a continuaciónhttps://stackoverflow.com/questions/tagged/google-cloud-platform?tab=newest&page=3&pagesize=50\n"
     ]
    }
   ],
   "source": [
    "url2 = input(\"Ingrese la nota a analizar a continuación\")"
   ]
  },
  {
   "cell_type": "code",
   "execution_count": 29,
   "metadata": {},
   "outputs": [],
   "source": [
    "nota = requests.get(url2).content"
   ]
  },
  {
   "cell_type": "code",
   "execution_count": 30,
   "metadata": {},
   "outputs": [],
   "source": [
    "with urllib.request.urlopen(url2) as response: \n",
    "    html = response.read()\n",
    "    html = html.decode('utf-8')"
   ]
  },
  {
   "cell_type": "code",
   "execution_count": 31,
   "metadata": {},
   "outputs": [],
   "source": [
    "soup = BeautifulSoup(html)"
   ]
  },
  {
   "cell_type": "code",
   "execution_count": 32,
   "metadata": {},
   "outputs": [],
   "source": [
    "selector = soup.select(\"h3\")\n",
    "#titulo = []\n",
    "count = 0\n",
    "for element in selector:\n",
    "    titulo.append(element.text)\n",
    "    count +=1"
   ]
  },
  {
   "cell_type": "code",
   "execution_count": 33,
   "metadata": {},
   "outputs": [],
   "source": [
    "selector = soup.findAll(\"div\", {\"class\": \"excerpt\"})\n",
    "#subtitulo = []\n",
    "count = 0\n",
    "for element in selector:\n",
    "    subtitulo.append(element.text)\n",
    "    count +=1"
   ]
  },
  {
   "cell_type": "code",
   "execution_count": 20,
   "metadata": {},
   "outputs": [],
   "source": [
    "titulo = titulo[3:53]"
   ]
  },
  {
   "cell_type": "code",
   "execution_count": 34,
   "metadata": {},
   "outputs": [
    {
     "data": {
      "text/plain": [
       "156"
      ]
     },
     "execution_count": 34,
     "metadata": {},
     "output_type": "execute_result"
    }
   ],
   "source": [
    "len(titulo)"
   ]
  },
  {
   "cell_type": "code",
   "execution_count": 35,
   "metadata": {},
   "outputs": [
    {
     "data": {
      "text/plain": [
       "150"
      ]
     },
     "execution_count": 35,
     "metadata": {},
     "output_type": "execute_result"
    }
   ],
   "source": [
    "len(subtitulo)"
   ]
  },
  {
   "cell_type": "code",
   "execution_count": 36,
   "metadata": {},
   "outputs": [],
   "source": [
    "with open('titulo.txt', 'w') as f:\n",
    "    for item in titulo:\n",
    "        f.write(\"%s\\n\" % item)\n",
    "\n"
   ]
  },
  {
   "cell_type": "code",
   "execution_count": 43,
   "metadata": {},
   "outputs": [],
   "source": [
    "string = str(titulo)\n",
    "stop = stop_words.get_stop_words(\"en\")\n",
    "stylecloud.gen_stylecloud(string,\n",
    "                          icon_name='fas fa-cloud',\n",
    "                          custom_stopwords=stop, \n",
    "                         output_name='titulo.png')"
   ]
  },
  {
   "cell_type": "code",
   "execution_count": 39,
   "metadata": {},
   "outputs": [],
   "source": [
    "stop.append('google')"
   ]
  },
  {
   "cell_type": "code",
   "execution_count": 40,
   "metadata": {},
   "outputs": [],
   "source": [
    "stop.append('cloud')"
   ]
  },
  {
   "cell_type": "code",
   "execution_count": 41,
   "metadata": {},
   "outputs": [],
   "source": [
    "stop.append('Google')"
   ]
  },
  {
   "cell_type": "code",
   "execution_count": 42,
   "metadata": {},
   "outputs": [],
   "source": [
    "stop.append('Cloud')"
   ]
  },
  {
   "cell_type": "code",
   "execution_count": null,
   "metadata": {},
   "outputs": [],
   "source": []
  },
  {
   "cell_type": "code",
   "execution_count": 152,
   "metadata": {},
   "outputs": [
    {
     "name": "stdout",
     "output_type": "stream",
     "text": [
      "['Google', 'function', 'Build', 'failed', 'found', 'incompatible', 'dependencies', 'Python', 'entrieslist', 'not', 'giving', 'any', 'output', 'GCP', 'Cloud', 'LogEntries', 'list', 'H2O3', 'AI', 'Can', 'not', 'Import', 'Model', 'from', 'Google', 'Cloud', 'Storage', 'to', 'Cluster', 'Bash', 'script', 'to', 'automatize', 'GCP', 'IAM', 'creation', 'deletion', 'and', 'role', 'change', 'Google', 'Actions', 'SDK', 'Error', 'Unauthorized', 'Your', 'client', 'does', 'not', 'have', 'permission', 'to', 'the', 'requested', 'URL', 'caused', 'by', 'use', 'of', 'convuserstorage', 'Listen', 'activity', 'around', 'SQL', 'proxy', 'on', 'virtual', 'machine', 'with', 'docker', 'Why', 'is', 'the', 'NEXT', 'button', 'greyed', 'out', 'when', 'trying', 'to', 'edit', 'a', 'Google', 'Cloud', 'Function', 'Array', 'concate', 'in', 'bigquery', 'No', 'module', 'named', 'pytest', 'error', 'in', 'Google', 'Cloud', 'Build', 'Code', 'EXTERNAL_RESOURCE_NOT_FOUND', 'Message', 'The', 'resource', 'projectIDcomputedevelopergserviceaccountcom', 'of', 'type', 'serviceAccount', 'was', 'not', 'found', 'How', 'to', 'connect', 'to', 'Cloud', 'SQL', 'from', 'Cloud', 'Run', 'instance', 'while', 'also', 'using', 'ServerlessVPCConnector', 'Allow', 'POST', 'to', 'google', 'cloud', 'functions', 'but', 'not', 'GET', 'CloudFunctions', 'with', 'Pubsub', 'long', 'delay', 'to', 'publish', 'RecordRTC', 'Uploading', 'recorded', 'video', 'to', 'google', 'cloud', 'storage', 'Unable', 'to', 'signin', 'using', 'Google', 'in', 'Android', 'App', 'Cloud', 'Profiler', 'Listing', 'Profiles', 'created', 'from', 'Java', 'agent', 'GCP', 'Load', 'balancing', 'based', 'on', 'service', 'availability', 'Cloud', 'Run', 'Allowing', 'users', 'to', 'deploy', 'a', 'single', 'resource', 'based', 'on', 'permissions', 'How', 'can', 'I', 'synchronize', 'an', 'Azure', 'SQL', 'server', 'with', 'a', 'Google', 'Cloud', 'SQL', 'instance', 'How', 'to', 'update', 'NS', 'of', 'a', 'DNS', 'in', 'GCP', 'How', 'to', 'give', 'external', 'link', 'in', 'Google', 'Data', 'Studio', 'Partitioning', 'Google', 'Cloud', 'Ubuntu', '2004', 'Instance', 'GCP', 'service', 'Account', 'Authentication', 'How', 'to', 'fetch', 'newly', 'added', 'images', 'from', 'VM', 'in', 'google', 'cloud', 'platform', 'GCP', 'DataprocHow', 'to', 'create', 'a', 'persistent', 'HDFS', 'volumn', 'means', 'even', 'if', 'you', 'delete', 'the', 'dataproc', 'cluster', 'it', 'should', 'not', 'delete', 'the', 'HDFS', 'Is', 'it', 'possible', 'Is', 'there', 'any', 'GCP', 'managed', 'service', 'is', 'available', 'to', 'store', 'python', 'whl', 'files', 'and', 'use', 'them', 'in', 'requirementstxt', 'How', 'to', 'grant', 'a', 'SELECT', 'permission', 'for', 'a', 'new', 'GCP', 'Cloud', 'SQL', 'PostgreSQL', 'user', 'Ai', 'Platform', 'Unified', 'Batch', 'Predict', 'with', 'Numpy', 'Array', 'as', 'input', 'not', 'working', 'Simple', 'GCP', 'cloud', 'function', 'gives', 'Error', 'ID', '945b0f01', 'How', 'to', 'add', 'Custom', 'Resource', 'Definition', 'for', 'ManagedCertificate', 'in', 'GCP', 'Kubernetes', 'cluster', 'Unable', 'to', 'RDPAn', 'internal', 'error', 'has', 'occurred', 'Apache', 'Beam', 'creating', 'PCollection', 'of', 'Custom', 'EntitiesModels', 'with', 'Abstract', 'Fields', 'Deploy', 'ML', 'Model', 'GCP', 'Django', 'at', 'scale', 'how', 'to', 'manage', 'session', 'Getting', 'a', 'Not', 'authorized', 'error', 'in', 'an', 'third', 'party', 'application', 'we', 'are', 'using', 'for', 'my', 'Wordpress', 'Site', 'Accessing', 'version', 'number', 'for', 'deployed', 'Cloud', 'Function', 'in', 'Python', 'GCP', 'Cloud', 'Function', 'cant', 'find', 'Python', 'package', 'from', 'Artifact', 'Registry', 'in', 'the', 'same', 'project', 'What', 'should', 'be', 'the', 'best', 'logic', 'to', 'load', 'CSV', 'data', 'from', 'cloud', 'storage', 'to', 'Big', 'Query', 'using', 'Cloud', 'Functions', 'in', 'Python', 'Functionsframework', 'emulator', 'subscribing', 'to', 'PubSub', 'emulator', 'Predefining', 'serviceaccount', 'for', 'googlesink', 'with', 'pubsub', 'destination', 'Google', 'Cloud', 'authentication', 'error', 'Username', 'does', 'not', 'match', 'with', 'json', 'ansible', 'gcp_compute_disk', 'problem', 'creating', 'disk', 'from', 'a', 'snapshot', 'How', 'to', 'grant', 'user', 'privileges', 'in', 'google', 'cloud', 'using', 'mysql', 'Google', 'Cloud', 'Run', 'error', 'Invalid', 'Command', 'binsh', 'file', 'not', 'found', 'when', 'deploying', 'from', 'Docker', 'image', 'Google', 'Ads', 'Apps', 'Script', 'get', 'all', 'conversion', 'value', 'Google', 'Cloud', 'Composer', 'question', 'regarding', 'languages', 'and', 'workflows', 'BigQuery', 'API', 'Java', 'client', 'library', 'does', 'not', 'support', 'JobConfigurationLoaddecimalTargetTypes', 'Kubeflow', 'Metadata', 'Store', 'in', 'GCP', 'Trying', 'to', 'connect', 'Google', 'Vision', 'AI', 'to', 'Django', 'Tracert', 'not', 'complete', 'trace', 'to', 'Google', 'Compute', 'Engine', 'Web', 'Server', 'In', 'GKE', 'how', 'to', 'minimize', 'connect', 'time', 'with', 'Load', 'balancer', 'ncurrent', 'communityn', 'rnyour', 'communities', 'more', 'stack', 'exchange', 'communitiesn', 'Publish', 'PubSub', 'messages', 'from', 'APP', 'script', 'PERMISSION_DENIED', 'Can', 'not', 'connect', 'to', 'Cloud', 'SQL', 'Proxy', 'via', 'Docker', 'Error', 'connect', 'ENOENT', 'Google', 'Cloud', 'connecting', 'first', 'time', 'through', 'ftp', 'but', 'in', 'few', 'seconds', 'reverting', 'to', 'permission', 'denied', 'on', 'write', 'the', 'file', 'is', 'going', 'blank', 'on', 'this', 'case', 'Change', 'Google', 'Sheet', 'API', 'from', 'V3', 'to', 'V4', 'downloading', 'the', 'files', 'from', 'Google', 'Drive', 'using', 'the', 'command', 'line', 'closed', 'gcloud', 'command', 'not', 'found', 'when', 'starting', 'Cloud', 'SQL', 'Auth', 'proxy', 'with', 'docker', 'and', 'container', 'optimised', 'OS', 'Read', 'JSON', 'file', 'directly', 'from', 'google', 'storage', 'using', 'Cloud', 'Functions', 'Kubernetes', 'dashboard', 'via', 'GCP', 'Do', 'views', 'of', 'tables', 'in', 'BigQuery', 'benefit', 'from', 'partitioningclustering', 'optimization', 'Google', 'Cloud', 'Invalid', 'value', 'for', 'ACCOUNT', 'Delete', 'images', 'from', 'a', 'folder', 'created', 'on', 'a', 'Google', 'Cloud', 'run', 'API', 'Create', 'tunnel', 'between', 'different', 'devices', 'and', 'an', 'GCP', 'instance', 'on', 'the', 'same', 'port', 'Google', 'Cloud', 'Translation', 'Work', 'around', 'for', 'glossaries', 'limit', 'gcloud', 'command', 'for', 'listing', 'notification', 'channels', 'not', 'working', 'with', 'filter', 'Google', 'Cloud', 'Authentication', 'getting', 'the', 'Key', 'ID', 'of', 'my', 'app', 'Google', 'Cloud', 'Shell', 'Web', 'Preview', 'with', 'https', 'backend', 'Gcloud', 'Export', 'to', 'Google', 'Storage', 'from', 'Cloud', 'SQL', 'instance', 'as', 'sql', 'file', 'Managing', 'quotas', 'for', 'SaaS', 'API', 'deployment', 'Google', 'billing', 'account', 'with', 'twofactor', 'credit', 'card', 'closed', 'Adding', 'session', 'affinity', 'via', 'BackendConfig', 'results', 'in', 'service', 'outage', '502', 'can', 'not', 'add', 'role', 'on', 'service', 'account', 'GCP', 'IAM', 'Getting', 'Forbidden', '403', 'Exceeded', 'rate', 'limits', 'too', 'many', 'table', 'update', 'operations', 'for', 'this', 'table', 'while', 'loading', 'CSV', 'file', 'from', 'cloud', 'storage', 'to', 'Big', 'Query', 'How', 'to', 'run', 'a', 'java', 'code', 'in', 'eclipse', 'without', 'main', 'method', 'Is', 'it', 'possible', 'to', 'use', 'boto3', 'to', 'query', 'gcp', 'Several', 'tables', 'vs', 'one', 'table', 'with', 'many', 'columnfamilies', 'Unable', 'to', 'connect', 'locally', 'to', 'MySQL', 'deployed', 'in', 'a', 'GCP', 'VM', 'instance', 'Using', 'Plesk', 'Why', 'my', 'Cloud', 'Run', 'got', 'an', 'Broken', 'Pipe', 'error', 'How', 'do', 'I', 'deploy', 'RQ', 'Celery', 'workers', 'on', 'GCP', 'Deploying', 'Springboot', 'on', 'Google', 'App', 'Engine', 'can', 'not', 'find', 'WebSecurityConfigurerAdapterclass', 'Request', 'was', 'aborted', 'after', 'waiting', 'too', 'long', 'to', 'attempt', 'to', 'service', 'your', 'request', 'appEngine', 'standard', 'environment', 'Automatic', 'scaling', 'configuring', 'path', 'forwarding', 'in', 'google', 'cloud', 'works', 'but', 'only', 'with', 'www', 'prefix', 'Read', 'GCS', 'blob', 'where', 'file', 'name', 'is', 'coming', 'from', 'previous', 'pcollection', 'in', 'apache', 'beam', 'GCP', 'AI', 'Platform', 'Unified', 'AutoScaling', 'How', 'to', 'redirect', 'to', 'variable', 'link', 'after', 'authentication', 'Travis', 'Gcloud', 'crashed', 'AttributeError', '_RSAPrivateKey', 'object', 'has', 'no', 'attribute', 'sign', 'Chat', 'application', 'using', 'grpc', 'streaming', 'Django', 'deployment', 'not', 'loading', 'static', 'files', 'in', 'Google', 'app', 'engine', 'Google', 'Cloud', 'saving', 'BigQuery', 'results', 'as', 'a', 'csv', 'file', 'to', 'a', 'specific', 'directory', 'on', 'Google', 'Drive', 'Kotlin', 'Multiplatform', 'Execution', 'failed', 'for', 'task', 'jsPackageJson', 'Entry', 'createhashjs', 'is', 'a', 'duplicate', 'Error', '404', 'While', 'Hosting', 'the', 'website', 'in', 'the', 'GCP', 'bucket', 'using', 'Load', 'Banacer', 'Cloud', 'Build', 'Unable', 'to', 'not', 'execute', 'gcloud', 'argument', 'led', 'commands', 'How', 'to', 'using', 'Cloud', 'IoT', 'core', 'for', 'device', 'IoT', 'record', 'sound', 'and', 'save', 'to', 'cloud', 'storage', 'Callback', 'to', 'cloud', 'functionscloud', 'run', 'if', 'timeout', 'happens', 'Smarthome', 'AOG', 'Garage', 'how', 'to', 'resolve', 'conflict', 'between', 'manual', 'and', 'Google', 'Homeautomatic', 'operation', 'Spring', 'securityconfig', 'breaks', 'deployment', 'on', 'google', 'cloud', 'app', 'engine', 'Google', 'Corretor', 'ortográfico', 'API', 'closed', 'GPC', 'Cloud', 'Build', 'Error', 'pushing', 'an', 'docker', 'image', 'An', 'image', 'does', 'not', 'exist', 'locally', 'with', 'the', 'tag', 'Connection', 'Refused', 'on', 'Google', 'Compute', 'Engine', 'container', 'How', 'do', 'I', 'point', 'Godaddy', 'domain', 'to', 'GCP', 'correctly', 'How', 'to', 'recover', 'private', 'key', 'from', 'sshgoogle_compute_engine', 'ncurrent', 'communityn', 'rnyour', 'communities', 'more', 'stack', 'exchange', 'communitiesn', 'Continuously', 'run', 'a', 'DAG', 'after', '2', 'minutes', 'of', 'completion', 'of', 'the', 'previous', 'run', 'in', 'Airflow', 'Cloud', 'Run', 'http', 'to', 'https', 'redirection', 'Google', 'cloud', 'App', 'engine', 'Spring', 'deploy', 'error', 'How', 'to', 'Generate', 'Gmail', 'draft', 'using', 'Google', 'App', 'Script', 'from', 'Spreadsheet', 'contains', 'Table', 'in', 'the', 'Body', 'Cloud', 'NAT', 'instead', 'of', 'assigning', 'a', 'Static', 'External', 'IP', 'Address', 'Unable', 'to', 'login', 'GCP', 'Virtual', 'Machine', 'Reason', 'failed', 'to', 'connect', 'to', 'backend', 'GCP', 'dataflow', 'quota', 'issue', 'Not', 'able', 'to', 'remove', 'permission', 'Storage', 'Object', 'Admin', 'gcloudkmsencrypt', 'Failed', 'to', 'read', 'plaintext', 'file', 'Making', 'batch', 'predictions', 'using', 'curl', 'php', 'HLS', 'Streaming', 'View', 'Count', 'Usage', 'Statistics', 'Viewer', 'Engagement', 'etc', 'Deploy', 'Google', 'cloud', 'Function', 'on', 'Github', 'actions', 'Not', 'able', 'to', 'ssh', 'in', 'to', 'GCP', 'compute', 'engine', 'Error', 'at', 'calling', 'a', 'stored', 'procedure', 'mysql', 'SQL', 'Error', '1292', '22001', 'Data', 'truncation', 'Truncated', 'incorrect', 'date', 'value', 'Need', 'assistance', 'to', 'whitelist', 'IPs', 'of', 'Dialogflow', 'fulfilment', 'request', 'for', 'firewall', 'Unable', 'to', 'connect', 'to', 'GCP', 'GCP', 'Invalid', 'JSON', 'Response', 'How', 'to', 'get', 'secretid', 'value', 'from', 'google', 'cloud', 'platform', 'in', 'eclipse', 'using', 'java', 'GCS', 'limit', 'bucket', 'access', 'to', 'an', 'existing', 'service', 'account', 'python', 'code', 'to', 'create', 'VPC', 'networks', 'in', 'Google', 'cloud', 'Provider', 'not', 'scoped', 'bad', 'access', 'after', 'declaration', 'Flutter', 'How', 'to', 'setup', 'GCP', 'Cloud', 'Function', 'access', 'Firestore', 'both', 'on', 'the', 'same', 'GCP', 'Project', 'AWS', 'S3', 'to', 'BigQuery', 'data', 'transfer', 'by', 'Terraform', 'issues', 'Error', 'with', 'codeexited', 'status2', 'when', 'starting', 'VNC', 'Running', 'a', 'Python', 'Script', 'from', 'Google', 'Storage', 'Bucket', 'in', 'terminal', 'istio', 'default', 'installation', 'traffic', 'blocked', 'Connect', 'to', 'On', 'Prem', 'SQL', 'server', 'from', 'GCP', 'export', 'data', 'from', 'a', 'table', 'in', 'a', 'file', 'into', 'cloud', 'storage', 'directly', 'closed', 'How', 'to', 'catch', 'large', 'texts', 'with', 'a', 'DialogFlow', 'entity', 'URL', 'regex', 'mapping', 'on', 'GCP', 'Load', 'balancer', 'Why', 'Google', 'Gloud', 'PlatformGCP', 'free', 'trail', 'not', 'working', 'after', 'payment', 'verification', 'closed', 'How', 'to', 'find', 'BigQuery', 'dataset', 'location', 'in', 'multiregion', 'Why', 'doesnt', 'deployment', 'manager', 'create', 'subnetworks', 'with', 'VPCs', 'Google', 'Cloud', 'UsersMezshrc8', 'unmatched', 'Google', 'Cloud', 'Workflow', 'Fetch', 'Bearer', 'Token', 'Step', 'Google', 'Internal', 'oAuth', 'Consent', 'Screen', 'with', 'multiple', 'domains', 'Setting', 'Cloud', 'Monitoring', 'uptime', 'checks', 'for', 'non', 'publicly', 'accessible', 'backends', 'How', 'to', 'prevent', 'users', 'to', 'download', 'data', 'in', 'GCP', 'all', 'possible', 'ways', 'Google', 'cloud', 'instance', 'hosted', 'site', 'showing', 'This', 'site', 'cant', 'be', 'reached', 'Service', 'invoked', 'too', 'many', 'times', 'for', 'one', 'day', 'jdbc', 'connection', 'for', 'only', 'one', 'user', 'yolov4', 'does', 'not', 'work', 'properly', 'with', 'google', 'cloud', 'platform', 'Istio', 'on', 'GKE', 'in', 'Autopilot', 'mode', 'Google', 'Cloud', 'Functions', 'missing', 'mainpy', 'CloudSQL', 'Replicas', 'Load', 'Balance', 'Update', 'MIG', 'using', 'Cloud', 'Functions', 'with', 'Python', 'Runtime', 'ESPv2', 'docker', 'image', 'Bash', 'bad', 'interpreter', 'No', 'such', 'file', 'or', 'directory', 'Google', 'Cloud', 'Functions', 'How', 'to', 'import', 'a', 'Python', 'package', 'via', 'PIP', 'from', 'a', 'GCP', 'Repository', 'in', 'another', 'project', 'Getting', 'data', 'from', 'Firebase', 'in', 'XamarinForms', 'app', 'Google', 'sheet', 'rename', 'not', 'being', 'picked', 'up', 'in', 'authorization', 'window', 'Configuring', 'Google', 'Cloud', 'Load', 'Balancer', 'path', 'rules', 'Cloud', 'scheduler', 'HTTP', 'list', 'in', 'payloadbody']\n"
     ]
    }
   ],
   "source": [
    "texto = str(titulo)\n",
    "\n",
    "\n",
    "text = texto\n",
    "text = re.sub(r'[^\\w\\s]','',text)\n",
    "text\n",
    "#Palabras\n",
    "\n",
    "tokenized_word=word_tokenize(text)\n",
    "print(tokenized_word)"
   ]
  },
  {
   "cell_type": "code",
   "execution_count": 118,
   "metadata": {},
   "outputs": [],
   "source": [
    "from nltk.corpus import stopwords\n",
    "stop_words = set(stopwords.words('english'))"
   ]
  },
  {
   "cell_type": "code",
   "execution_count": 119,
   "metadata": {},
   "outputs": [],
   "source": [
    "filtered_sentence = [w for w in tokenized_word if not w in stop_words]"
   ]
  },
  {
   "cell_type": "code",
   "execution_count": 120,
   "metadata": {},
   "outputs": [
    {
     "data": {
      "text/plain": [
       "nltk.probability.FreqDist"
      ]
     },
     "execution_count": 120,
     "metadata": {},
     "output_type": "execute_result"
    }
   ],
   "source": [
    "fdist1 = FreqDist(filtered_sentence)\n",
    "type(fdist1)"
   ]
  },
  {
   "cell_type": "code",
   "execution_count": 138,
   "metadata": {},
   "outputs": [
    {
     "data": {
      "text/plain": [
       "[('Google', 46),\n",
       " ('Cloud', 43),\n",
       " ('GCP', 32),\n",
       " ('How', 21),\n",
       " ('cloud', 18),\n",
       " ('using', 14),\n",
       " ('SQL', 10),\n",
       " ('file', 10),\n",
       " ('google', 9),\n",
       " ('Error', 8),\n",
       " ('connect', 8),\n",
       " ('Python', 7),\n",
       " ('error', 7),\n",
       " ('service', 7),\n",
       " ('instance', 6),\n",
       " ('storage', 6),\n",
       " ('Unable', 6),\n",
       " ('Load', 6),\n",
       " ('Function', 5),\n",
       " ('Run', 5),\n",
       " ('data', 5),\n",
       " ('Functions', 5),\n",
       " ('BigQuery', 5),\n",
       " ('API', 5),\n",
       " ('closed', 5),\n",
       " ('run', 5),\n",
       " ('Build', 4),\n",
       " ('found', 4),\n",
       " ('Storage', 4),\n",
       " ('permission', 4)]"
      ]
     },
     "execution_count": 138,
     "metadata": {},
     "output_type": "execute_result"
    }
   ],
   "source": [
    "fdist1.most_common(30)"
   ]
  },
  {
   "cell_type": "code",
   "execution_count": 122,
   "metadata": {},
   "outputs": [],
   "source": [
    "df = pd.DataFrame.from_dict(fdist1, orient='index')"
   ]
  },
  {
   "cell_type": "code",
   "execution_count": 123,
   "metadata": {},
   "outputs": [],
   "source": [
    "df = df.reset_index()\n",
    "columnas = ['palabra', 'frecuencia']\n",
    "df.columns = columnas"
   ]
  },
  {
   "cell_type": "code",
   "execution_count": 141,
   "metadata": {},
   "outputs": [],
   "source": [
    "df['palabra'] = df['palabra'].str.lower()"
   ]
  },
  {
   "cell_type": "code",
   "execution_count": 142,
   "metadata": {},
   "outputs": [],
   "source": [
    "df1 = df.sort_values(by = \"frecuencia\", ascending = False)"
   ]
  },
  {
   "cell_type": "code",
   "execution_count": 143,
   "metadata": {},
   "outputs": [],
   "source": [
    "df1 = df1.head(15)"
   ]
  },
  {
   "cell_type": "code",
   "execution_count": 145,
   "metadata": {},
   "outputs": [
    {
     "data": {
      "text/html": [
       "<div>\n",
       "<style scoped>\n",
       "    .dataframe tbody tr th:only-of-type {\n",
       "        vertical-align: middle;\n",
       "    }\n",
       "\n",
       "    .dataframe tbody tr th {\n",
       "        vertical-align: top;\n",
       "    }\n",
       "\n",
       "    .dataframe thead th {\n",
       "        text-align: right;\n",
       "    }\n",
       "</style>\n",
       "<table border=\"1\" class=\"dataframe\">\n",
       "  <thead>\n",
       "    <tr style=\"text-align: right;\">\n",
       "      <th></th>\n",
       "      <th>palabra</th>\n",
       "      <th>frecuencia</th>\n",
       "    </tr>\n",
       "  </thead>\n",
       "  <tbody>\n",
       "    <tr>\n",
       "      <th>0</th>\n",
       "      <td>google</td>\n",
       "      <td>46</td>\n",
       "    </tr>\n",
       "    <tr>\n",
       "      <th>12</th>\n",
       "      <td>cloud</td>\n",
       "      <td>43</td>\n",
       "    </tr>\n",
       "    <tr>\n",
       "      <th>11</th>\n",
       "      <td>gcp</td>\n",
       "      <td>32</td>\n",
       "    </tr>\n",
       "    <tr>\n",
       "      <th>73</th>\n",
       "      <td>how</td>\n",
       "      <td>21</td>\n",
       "    </tr>\n",
       "    <tr>\n",
       "      <th>83</th>\n",
       "      <td>cloud</td>\n",
       "      <td>18</td>\n",
       "    </tr>\n",
       "    <tr>\n",
       "      <th>78</th>\n",
       "      <td>using</td>\n",
       "      <td>14</td>\n",
       "    </tr>\n",
       "    <tr>\n",
       "      <th>45</th>\n",
       "      <td>sql</td>\n",
       "      <td>10</td>\n",
       "    </tr>\n",
       "    <tr>\n",
       "      <th>248</th>\n",
       "      <td>file</td>\n",
       "      <td>10</td>\n",
       "    </tr>\n",
       "    <tr>\n",
       "      <th>82</th>\n",
       "      <td>google</td>\n",
       "      <td>9</td>\n",
       "    </tr>\n",
       "    <tr>\n",
       "      <th>74</th>\n",
       "      <td>connect</td>\n",
       "      <td>8</td>\n",
       "    </tr>\n",
       "    <tr>\n",
       "      <th>32</th>\n",
       "      <td>error</td>\n",
       "      <td>8</td>\n",
       "    </tr>\n",
       "    <tr>\n",
       "      <th>109</th>\n",
       "      <td>service</td>\n",
       "      <td>7</td>\n",
       "    </tr>\n",
       "    <tr>\n",
       "      <th>64</th>\n",
       "      <td>error</td>\n",
       "      <td>7</td>\n",
       "    </tr>\n",
       "    <tr>\n",
       "      <th>7</th>\n",
       "      <td>python</td>\n",
       "      <td>7</td>\n",
       "    </tr>\n",
       "    <tr>\n",
       "      <th>96</th>\n",
       "      <td>unable</td>\n",
       "      <td>6</td>\n",
       "    </tr>\n",
       "  </tbody>\n",
       "</table>\n",
       "</div>"
      ],
      "text/plain": [
       "     palabra  frecuencia\n",
       "0     google          46\n",
       "12     cloud          43\n",
       "11       gcp          32\n",
       "73       how          21\n",
       "83     cloud          18\n",
       "78     using          14\n",
       "45       sql          10\n",
       "248     file          10\n",
       "82    google           9\n",
       "74   connect           8\n",
       "32     error           8\n",
       "109  service           7\n",
       "64     error           7\n",
       "7     python           7\n",
       "96    unable           6"
      ]
     },
     "execution_count": 145,
     "metadata": {},
     "output_type": "execute_result"
    }
   ],
   "source": [
    "df1"
   ]
  },
  {
   "cell_type": "code",
   "execution_count": 144,
   "metadata": {},
   "outputs": [
    {
     "data": {
      "image/png": "[encoded data removed]",
      "text/plain": [
       "<Figure size 842.4x595.44 with 1 Axes>"
      ]
     },
     "metadata": {},
     "output_type": "display_data"
    }
   ],
   "source": [
    "sns.barplot(data = df1, x = \"palabra\", y = \"frecuencia\")\n",
    "plt.title('Los tópicos más importantes de palabras')\n",
    "plt.xlabel('Palabra')\n",
    "plt.ylabel('Cantidad')\n",
    "plt.show()"
   ]
  },
  {
   "cell_type": "code",
   "execution_count": 146,
   "metadata": {},
   "outputs": [
    {
     "data": {
      "image/png": "[encoded data removed]",
      "text/plain": [
       "<Figure size 842.4x595.44 with 1 Axes>"
      ]
     },
     "metadata": {},
     "output_type": "display_data"
    }
   ],
   "source": [
    "df.groupby('palabra')['frecuencia'].sum().sort_values(ascending = False).head(10).plot.bar(color = \"green\")\n",
    "plt.title('Los 10 tópicos mas importantes', fontsize = 20)\n",
    "plt.xlabel('Words', fontsize = 15)\n",
    "plt.ylabel('Count', fontsize = 15)\n",
    "plt.show()"
   ]
  },
  {
   "cell_type": "code",
   "execution_count": null,
   "metadata": {},
   "outputs": [],
   "source": []
  }
 ],
 "metadata": {
  "kernelspec": {
   "display_name": "Python 3",
   "language": "python",
   "name": "python3"
  },
  "language_info": {
   "codemirror_mode": {
    "name": "ipython",
    "version": 3
   },
   "file_extension": ".py",
   "mimetype": "text/x-python",
   "name": "python",
   "nbconvert_exporter": "python",
   "pygments_lexer": "ipython3",
   "version": "3.6.9"
  }
 },
 "nbformat": 4,
 "nbformat_minor": 4
}
